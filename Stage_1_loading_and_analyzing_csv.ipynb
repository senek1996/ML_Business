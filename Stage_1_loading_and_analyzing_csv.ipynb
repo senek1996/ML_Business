{
 "cells": [
  {
   "cell_type": "markdown",
   "metadata": {},
   "source": [
    "# ЭТАП 1. ОБРАБОТКА И АНАЛИЗ ДАННЫХ"
   ]
  },
  {
   "cell_type": "markdown",
   "metadata": {},
   "source": [
    "1.1. Загрузка данных, получение первичной информации и определение типов признаков.\n",
    "\n",
    "Извлечем данные о пользователях"
   ]
  },
  {
   "cell_type": "code",
   "execution_count": 18,
   "metadata": {},
   "outputs": [
    {
     "name": "stdout",
     "output_type": "stream",
     "text": [
      "   Unnamed: 0       id  vas_id    buy_time  target\n",
      "0           0   540968     8.0  1537131600     0.0\n",
      "1           1  1454121     4.0  1531688400     0.0\n",
      "2           2  2458816     1.0  1534107600     0.0\n",
      "3           3  3535012     5.0  1535922000     0.0\n",
      "4           4  1693214     1.0  1535922000     0.0\n",
      "   Unnamed: 0       id  vas_id    buy_time\n",
      "0           0  3130519     2.0  1548018000\n",
      "1           1  2000860     4.0  1548018000\n",
      "2           2  1099444     2.0  1546808400\n",
      "3           3  1343255     5.0  1547413200\n",
      "4           4  1277040     2.0  1546808400\n"
     ]
    }
   ],
   "source": [
    "import pandas as pd, dill\n",
    "from sys import getsizeof\n",
    "from numpy import uint8\n",
    "\n",
    "data_train = pd.read_csv('data_train.csv')\n",
    "data_test = pd.read_csv('data_test.csv')\n",
    "\n",
    "print(data_train.head())\n",
    "print(data_test.head())"
   ]
  },
  {
   "cell_type": "markdown",
   "metadata": {},
   "source": [
    "Первый столбец в датафреймах - просто номер строки. Уберем его:"
   ]
  },
  {
   "cell_type": "code",
   "execution_count": 19,
   "metadata": {},
   "outputs": [
    {
     "name": "stdout",
     "output_type": "stream",
     "text": [
      "        id  vas_id    buy_time  target\n",
      "0   540968     8.0  1537131600     0.0\n",
      "1  1454121     4.0  1531688400     0.0\n",
      "2  2458816     1.0  1534107600     0.0\n",
      "3  3535012     5.0  1535922000     0.0\n",
      "4  1693214     1.0  1535922000     0.0\n",
      "        id  vas_id    buy_time\n",
      "0  3130519     2.0  1548018000\n",
      "1  2000860     4.0  1548018000\n",
      "2  1099444     2.0  1546808400\n",
      "3  1343255     5.0  1547413200\n",
      "4  1277040     2.0  1546808400\n"
     ]
    }
   ],
   "source": [
    "data_train = data_train[data_train.columns[1:]]\n",
    "data_test = data_test[data_test.columns[1:]]\n",
    "\n",
    "print(data_train.head())\n",
    "print(data_test.head())"
   ]
  },
  {
   "cell_type": "markdown",
   "metadata": {},
   "source": [
    "Теперь извлечем их признаки (первые 100000 строк):"
   ]
  },
  {
   "cell_type": "code",
   "execution_count": 20,
   "metadata": {},
   "outputs": [
    {
     "data": {
      "text/html": [
       "<div>\n",
       "<style scoped>\n",
       "    .dataframe tbody tr th:only-of-type {\n",
       "        vertical-align: middle;\n",
       "    }\n",
       "\n",
       "    .dataframe tbody tr th {\n",
       "        vertical-align: top;\n",
       "    }\n",
       "\n",
       "    .dataframe thead th {\n",
       "        text-align: right;\n",
       "    }\n",
       "</style>\n",
       "<table border=\"1\" class=\"dataframe\">\n",
       "  <thead>\n",
       "    <tr style=\"text-align: right;\">\n",
       "      <th></th>\n",
       "      <th>id</th>\n",
       "      <th>buy_time</th>\n",
       "      <th>0</th>\n",
       "      <th>1</th>\n",
       "      <th>2</th>\n",
       "      <th>3</th>\n",
       "      <th>4</th>\n",
       "      <th>5</th>\n",
       "      <th>6</th>\n",
       "      <th>7</th>\n",
       "      <th>...</th>\n",
       "      <th>243</th>\n",
       "      <th>244</th>\n",
       "      <th>245</th>\n",
       "      <th>246</th>\n",
       "      <th>247</th>\n",
       "      <th>248</th>\n",
       "      <th>249</th>\n",
       "      <th>250</th>\n",
       "      <th>251</th>\n",
       "      <th>252</th>\n",
       "    </tr>\n",
       "  </thead>\n",
       "  <tbody>\n",
       "    <tr>\n",
       "      <th>0</th>\n",
       "      <td>2013026</td>\n",
       "      <td>1531688400</td>\n",
       "      <td>18.910029</td>\n",
       "      <td>46.980888</td>\n",
       "      <td>4.969214</td>\n",
       "      <td>-1.386798</td>\n",
       "      <td>3.791754</td>\n",
       "      <td>-14.01179</td>\n",
       "      <td>-16.08618</td>\n",
       "      <td>-65.076097</td>\n",
       "      <td>...</td>\n",
       "      <td>-977.373846</td>\n",
       "      <td>-613.770792</td>\n",
       "      <td>-25.996269</td>\n",
       "      <td>-37.630448</td>\n",
       "      <td>-301.747724</td>\n",
       "      <td>-25.832889</td>\n",
       "      <td>-0.694428</td>\n",
       "      <td>-12.175933</td>\n",
       "      <td>-0.45614</td>\n",
       "      <td>0.0</td>\n",
       "    </tr>\n",
       "    <tr>\n",
       "      <th>1</th>\n",
       "      <td>2014722</td>\n",
       "      <td>1539550800</td>\n",
       "      <td>36.690029</td>\n",
       "      <td>152.400888</td>\n",
       "      <td>448.069214</td>\n",
       "      <td>563.833202</td>\n",
       "      <td>463.841754</td>\n",
       "      <td>568.99821</td>\n",
       "      <td>-16.08618</td>\n",
       "      <td>-53.216097</td>\n",
       "      <td>...</td>\n",
       "      <td>-891.373846</td>\n",
       "      <td>-544.770792</td>\n",
       "      <td>-20.996269</td>\n",
       "      <td>48.369552</td>\n",
       "      <td>80.252276</td>\n",
       "      <td>-13.832889</td>\n",
       "      <td>-0.694428</td>\n",
       "      <td>-1.175933</td>\n",
       "      <td>-0.45614</td>\n",
       "      <td>0.0</td>\n",
       "    </tr>\n",
       "    <tr>\n",
       "      <th>2</th>\n",
       "      <td>2015199</td>\n",
       "      <td>1545598800</td>\n",
       "      <td>-67.019971</td>\n",
       "      <td>157.050888</td>\n",
       "      <td>-63.180786</td>\n",
       "      <td>178.103202</td>\n",
       "      <td>-68.598246</td>\n",
       "      <td>156.99821</td>\n",
       "      <td>3.51382</td>\n",
       "      <td>25.183903</td>\n",
       "      <td>...</td>\n",
       "      <td>-977.373846</td>\n",
       "      <td>-613.770792</td>\n",
       "      <td>-12.996269</td>\n",
       "      <td>-37.630448</td>\n",
       "      <td>10829.252276</td>\n",
       "      <td>-25.832889</td>\n",
       "      <td>-0.694428</td>\n",
       "      <td>-12.175933</td>\n",
       "      <td>-0.45614</td>\n",
       "      <td>0.0</td>\n",
       "    </tr>\n",
       "    <tr>\n",
       "      <th>3</th>\n",
       "      <td>2021765</td>\n",
       "      <td>1534107600</td>\n",
       "      <td>7.010029</td>\n",
       "      <td>150.200888</td>\n",
       "      <td>-6.930786</td>\n",
       "      <td>216.213202</td>\n",
       "      <td>76.621754</td>\n",
       "      <td>351.84821</td>\n",
       "      <td>-16.08618</td>\n",
       "      <td>-65.076097</td>\n",
       "      <td>...</td>\n",
       "      <td>-973.373846</td>\n",
       "      <td>-613.770792</td>\n",
       "      <td>-23.996269</td>\n",
       "      <td>-37.630448</td>\n",
       "      <td>-205.747724</td>\n",
       "      <td>-24.832889</td>\n",
       "      <td>-0.694428</td>\n",
       "      <td>-11.175933</td>\n",
       "      <td>-0.45614</td>\n",
       "      <td>1.0</td>\n",
       "    </tr>\n",
       "    <tr>\n",
       "      <th>4</th>\n",
       "      <td>2027465</td>\n",
       "      <td>1533502800</td>\n",
       "      <td>-90.439971</td>\n",
       "      <td>134.220888</td>\n",
       "      <td>-104.380786</td>\n",
       "      <td>153.643202</td>\n",
       "      <td>-109.798246</td>\n",
       "      <td>132.53821</td>\n",
       "      <td>-16.08618</td>\n",
       "      <td>-65.076097</td>\n",
       "      <td>...</td>\n",
       "      <td>1643.626154</td>\n",
       "      <td>2007.229208</td>\n",
       "      <td>206.003731</td>\n",
       "      <td>-21.630448</td>\n",
       "      <td>6667.252276</td>\n",
       "      <td>92.167111</td>\n",
       "      <td>-0.694428</td>\n",
       "      <td>49.824067</td>\n",
       "      <td>47.54386</td>\n",
       "      <td>0.0</td>\n",
       "    </tr>\n",
       "  </tbody>\n",
       "</table>\n",
       "<p>5 rows × 255 columns</p>\n",
       "</div>"
      ],
      "text/plain": [
       "        id    buy_time          0           1           2           3  \\\n",
       "0  2013026  1531688400  18.910029   46.980888    4.969214   -1.386798   \n",
       "1  2014722  1539550800  36.690029  152.400888  448.069214  563.833202   \n",
       "2  2015199  1545598800 -67.019971  157.050888  -63.180786  178.103202   \n",
       "3  2021765  1534107600   7.010029  150.200888   -6.930786  216.213202   \n",
       "4  2027465  1533502800 -90.439971  134.220888 -104.380786  153.643202   \n",
       "\n",
       "            4          5         6          7  ...          243          244  \\\n",
       "0    3.791754  -14.01179 -16.08618 -65.076097  ...  -977.373846  -613.770792   \n",
       "1  463.841754  568.99821 -16.08618 -53.216097  ...  -891.373846  -544.770792   \n",
       "2  -68.598246  156.99821   3.51382  25.183903  ...  -977.373846  -613.770792   \n",
       "3   76.621754  351.84821 -16.08618 -65.076097  ...  -973.373846  -613.770792   \n",
       "4 -109.798246  132.53821 -16.08618 -65.076097  ...  1643.626154  2007.229208   \n",
       "\n",
       "          245        246           247        248       249        250  \\\n",
       "0  -25.996269 -37.630448   -301.747724 -25.832889 -0.694428 -12.175933   \n",
       "1  -20.996269  48.369552     80.252276 -13.832889 -0.694428  -1.175933   \n",
       "2  -12.996269 -37.630448  10829.252276 -25.832889 -0.694428 -12.175933   \n",
       "3  -23.996269 -37.630448   -205.747724 -24.832889 -0.694428 -11.175933   \n",
       "4  206.003731 -21.630448   6667.252276  92.167111 -0.694428  49.824067   \n",
       "\n",
       "        251  252  \n",
       "0  -0.45614  0.0  \n",
       "1  -0.45614  0.0  \n",
       "2  -0.45614  0.0  \n",
       "3  -0.45614  1.0  \n",
       "4  47.54386  0.0  \n",
       "\n",
       "[5 rows x 255 columns]"
      ]
     },
     "execution_count": 20,
     "metadata": {},
     "output_type": "execute_result"
    }
   ],
   "source": [
    "features = pd.read_csv('features.csv',nrows=100000,delimiter='\\t')\n",
    "features = features[features.columns[1:]]\n",
    "\n",
    "features.head()"
   ]
  },
  {
   "cell_type": "markdown",
   "metadata": {},
   "source": [
    "Определим типы признаков"
   ]
  },
  {
   "cell_type": "code",
   "execution_count": 21,
   "metadata": {},
   "outputs": [
    {
     "name": "stdout",
     "output_type": "stream",
     "text": [
      "int: 0\n",
      "float: 253\n",
      "string: 0\n",
      "other: 0\n"
     ]
    }
   ],
   "source": [
    "types = {'int': [], 'float': [], 'string': [], 'other': []}\n",
    "\n",
    "for i in range(253): #все поля, начиная с 3-го, имеют нумерацию от 0 до 252\n",
    "    col = features[str(i)]\n",
    "    x = str(col.dtype)\n",
    "    \n",
    "    if x.find('float')>=0:\n",
    "        types['float'].append(str(i))\n",
    "    elif x.find('int')>=0:\n",
    "        types['int'].append(str(i))\n",
    "    elif x.find('str')>=0:\n",
    "        types['str'].append(str(i))\n",
    "    else:\n",
    "        types['other'].append(str(i))\n",
    "    \n",
    "for k in types.keys():\n",
    "    print('{}: {}'.format(k,len(types[k])))"
   ]
  },
  {
   "cell_type": "markdown",
   "metadata": {},
   "source": [
    "В датафрейме все признаки вещественные. Нужен другой способ определения типа признаков"
   ]
  },
  {
   "cell_type": "code",
   "execution_count": 22,
   "metadata": {},
   "outputs": [
    {
     "data": {
      "text/plain": [
       "(253,)"
      ]
     },
     "execution_count": 22,
     "metadata": {},
     "output_type": "execute_result"
    }
   ],
   "source": [
    "features_nuniq = features[types['float']].apply(lambda x: x.nunique(dropna=False))\n",
    "features_nuniq.shape"
   ]
  },
  {
   "cell_type": "markdown",
   "metadata": {},
   "source": [
    "Все признаки из features (за исключением первых двух):"
   ]
  },
  {
   "cell_type": "code",
   "execution_count": 23,
   "metadata": {},
   "outputs": [
    {
     "data": {
      "text/plain": [
       "253"
      ]
     },
     "execution_count": 23,
     "metadata": {},
     "output_type": "execute_result"
    }
   ],
   "source": [
    "f_all = set(features_nuniq.index.tolist())\n",
    "len(f_all)"
   ]
  },
  {
   "cell_type": "markdown",
   "metadata": {},
   "source": [
    "Определим признаки с единственным значением (константные):"
   ]
  },
  {
   "cell_type": "code",
   "execution_count": 24,
   "metadata": {},
   "outputs": [
    {
     "data": {
      "text/plain": [
       "8"
      ]
     },
     "execution_count": 24,
     "metadata": {},
     "output_type": "execute_result"
    }
   ],
   "source": [
    "f_const = set(features_nuniq[features_nuniq == 1].index.tolist())\n",
    "len(f_const)"
   ]
  },
  {
   "cell_type": "markdown",
   "metadata": {},
   "source": [
    "Определим вещественные признаки:"
   ]
  },
  {
   "cell_type": "code",
   "execution_count": 25,
   "metadata": {},
   "outputs": [
    {
     "data": {
      "text/plain": [
       "247"
      ]
     },
     "execution_count": 25,
     "metadata": {},
     "output_type": "execute_result"
    }
   ],
   "source": [
    "f_numeric = (features[types['float']].fillna(0).astype(int).sum() - features[types['float']].fillna(0).sum()).abs()\n",
    "f_numeric = set(f_numeric[f_numeric > 0].index.tolist())\n",
    "len(f_numeric)"
   ]
  },
  {
   "cell_type": "markdown",
   "metadata": {},
   "source": [
    "Другие признаки"
   ]
  },
  {
   "cell_type": "code",
   "execution_count": 26,
   "metadata": {},
   "outputs": [
    {
     "data": {
      "text/plain": [
       "1"
      ]
     },
     "execution_count": 26,
     "metadata": {},
     "output_type": "execute_result"
    }
   ],
   "source": [
    "f_other = f_all - (f_numeric | f_const)\n",
    "len(f_other)"
   ]
  },
  {
   "cell_type": "markdown",
   "metadata": {},
   "source": [
    "бинарные признаки"
   ]
  },
  {
   "cell_type": "code",
   "execution_count": 27,
   "metadata": {},
   "outputs": [
    {
     "name": "stdout",
     "output_type": "stream",
     "text": [
      "0\n",
      "1\n"
     ]
    }
   ],
   "source": [
    "f_binary = set(features[types['float']].loc[:, f_other].columns[(\n",
    "                      (features[types['float']].loc[:, f_other].max() == 1) & \\\n",
    "                      (features[types['float']].loc[:, f_other].min() == 0) & \\\n",
    "                      (features[types['float']].loc[:, f_other].isnull().sum() == 0))])\n",
    "print(len(f_binary))\n",
    "\n",
    "f_other = f_other - f_binary\n",
    "print(len(f_other))"
   ]
  },
  {
   "cell_type": "markdown",
   "metadata": {},
   "source": [
    "Категориальные признаки\n",
    "\n",
    "Так не работает (KeyError: \"None of [Index(['252'], dtype='object')] are in the [index]\"), если отбираем всего один признак (как у меня):\n",
    "\n",
    "f_categorical = set(features[types['float']].loc[f_other][features[types['float']].loc[f_other] <= 10].index.tolist())\n",
    "\n",
    "А вот так:"
   ]
  },
  {
   "cell_type": "code",
   "execution_count": 28,
   "metadata": {},
   "outputs": [
    {
     "data": {
      "text/plain": [
       "0"
      ]
     },
     "execution_count": 28,
     "metadata": {},
     "output_type": "execute_result"
    }
   ],
   "source": [
    "f_categorical = set(features[types['float']][f_other].columns)\n",
    "\n",
    "f_other = f_other - f_categorical\n",
    "len(f_other)"
   ]
  },
  {
   "cell_type": "markdown",
   "metadata": {},
   "source": [
    "Класс"
   ]
  },
  {
   "cell_type": "code",
   "execution_count": 29,
   "metadata": {},
   "outputs": [
    {
     "name": "stdout",
     "output_type": "stream",
     "text": [
      "[]\n",
      "['252']\n",
      "['26', '191', '69', '153', '97', '174', '63', '243', '105', '72', '186', '33', '201', '71', '94', '224', '28', '4', '99', '10', '214', '197', '208', '96', '44', '34', '247', '244', '29', '80', '108', '65', '241', '42', '109', '193', '19', '220', '167', '161', '0', '210', '12', '86', '32', '148', '107', '127', '155', '250', '180', '173', '68', '59', '22', '61', '136', '60', '8', '151', '182', '237', '101', '36', '246', '92', '52', '54', '11', '111', '134', '124', '47', '202', '226', '146', '194', '235', '93', '126', '141', '121', '150', '104', '130', '187', '74', '164', '195', '192', '103', '58', '90', '123', '31', '142', '50', '230', '62', '116', '56', '91', '66', '211', '162', '228', '188', '27', '67', '129', '79', '163', '185', '207', '140', '215', '156', '209', '206', '41', '40', '39', '6', '45', '48', '73', '87', '135', '231', '236', '18', '117', '213', '114', '170', '165', '152', '95', '158', '179', '131', '229', '176', '240', '14', '132', '225', '159', '233', '234', '169', '138', '222', '245', '242', '154', '3', '82', '232', '184', '23', '120', '190', '119', '133', '5', '2', '157', '166', '177', '196', '204', '64', '35', '221', '7', '219', '13', '251', '70', '78', '98', '20', '24', '147', '30', '17', '183', '51', '112', '84', '217', '248', '57', '46', '144', '53', '143', '77', '238', '102', '1', '223', '125', '178', '38', '175', '137', '171', '227', '21', '106', '49', '115', '160', '37', '181', '168', '205', '25', '89', '122', '118', '145', '113', '172', '198', '76', '110', '200', '55', '100', '212', '83', '199', '16', '128', '149', '239', '88', '249', '43', '9', '189']\n"
     ]
    }
   ],
   "source": [
    "f_numeric = f_numeric | f_other\n",
    "f_numeric = f_numeric - f_const #пофиксил ОШИБКУ: numeric и const в assert считаются отдельно, поэтому необходимо вычесть одно из другого\n",
    "f_other = f_other - f_numeric\n",
    "len(f_other)\n",
    "\n",
    "assert(features_nuniq.shape[0] == len(f_const) + len(f_binary) + len(f_numeric) + len(f_categorical))\n",
    "\n",
    "#готовые списки признаков для отбора\n",
    "f_ok = list(f_binary | f_categorical | f_numeric)\n",
    "f_binary, f_categorical, f_numeric = list(f_binary), list(f_categorical), list(f_numeric)\n",
    "\n",
    "print(f_binary)\n",
    "print(f_categorical)\n",
    "print(f_numeric)"
   ]
  },
  {
   "cell_type": "markdown",
   "metadata": {},
   "source": [
    "Проверим признак 252 на бинарность"
   ]
  },
  {
   "cell_type": "code",
   "execution_count": 30,
   "metadata": {},
   "outputs": [
    {
     "data": {
      "text/plain": [
       "0.0     73952\n",
       "1.0     26046\n",
       "82.0        1\n",
       "10.0        1\n",
       "Name: 252, dtype: int64"
      ]
     },
     "execution_count": 30,
     "metadata": {},
     "output_type": "execute_result"
    }
   ],
   "source": [
    "features['252'].value_counts()"
   ]
  },
  {
   "cell_type": "markdown",
   "metadata": {},
   "source": [
    "Признак 252 бинарный, поэтому изменим списки признаков:"
   ]
  },
  {
   "cell_type": "code",
   "execution_count": 31,
   "metadata": {},
   "outputs": [],
   "source": [
    "f_binary = ['252']\n",
    "f_categorical = []"
   ]
  },
  {
   "cell_type": "markdown",
   "metadata": {},
   "source": [
    "Сохраним список подходящих полей в файл для дальнейшего использования"
   ]
  },
  {
   "cell_type": "code",
   "execution_count": 32,
   "metadata": {},
   "outputs": [],
   "source": [
    "with open('cls.dat','wb') as f:\n",
    "    dill.dump((f_binary,f_categorical,f_numeric),f)"
   ]
  },
  {
   "cell_type": "markdown",
   "metadata": {},
   "source": [
    "Определим, уникальны ли пользователи в данных, а также определим кол-во тарифов:"
   ]
  },
  {
   "cell_type": "code",
   "execution_count": 33,
   "metadata": {},
   "outputs": [
    {
     "name": "stdout",
     "output_type": "stream",
     "text": [
      "806613\n",
      "70152\n",
      "99930\n",
      "\n",
      "1.0    310175\n",
      "2.0    249505\n",
      "5.0     94085\n",
      "4.0     85756\n",
      "6.0     57878\n",
      "7.0     15432\n",
      "8.0     13350\n",
      "9.0      5472\n",
      "Name: vas_id, dtype: int64\n",
      "\n",
      "2.0    31361\n",
      "5.0    13073\n",
      "6.0    12976\n",
      "1.0     8413\n",
      "4.0     3058\n",
      "7.0     1192\n",
      "8.0      619\n",
      "9.0      539\n",
      "Name: vas_id, dtype: int64\n"
     ]
    }
   ],
   "source": [
    "cou_users_train = data_train['id'].nunique()\n",
    "cou_users_test = data_test['id'].nunique()\n",
    "cou_users_features = features['id'].nunique()\n",
    "\n",
    "cou_tariffes_train = data_train['vas_id'].value_counts()\n",
    "cou_tariffes_test = data_test['vas_id'].value_counts()\n",
    "\n",
    "print(cou_users_train)\n",
    "print(cou_users_test)\n",
    "print(cou_users_features,end='\\n\\n')\n",
    "print(cou_tariffes_train,end='\\n\\n')\n",
    "print(cou_tariffes_test)"
   ]
  },
  {
   "cell_type": "markdown",
   "metadata": {},
   "source": [
    "Cостав тарифных программ одинаков (1,2,4,5,6,7,8,9)\n",
    "\n",
    "Определим примерное кол-во строк в файле features.csv, т.к. невозможно его прочитать целиком"
   ]
  },
  {
   "cell_type": "code",
   "execution_count": 34,
   "metadata": {},
   "outputs": [
    {
     "name": "stdout",
     "output_type": "stream",
     "text": [
      "2040.0\n",
      "11042189.83382353\n"
     ]
    }
   ],
   "source": [
    "size_1_s = (getsizeof(features)-144)/len(features) #размер 1 строки\n",
    "features_cou_str = 22526067261/size_1_s\n",
    "\n",
    "print(size_1_s)\n",
    "print(features_cou_str)"
   ]
  },
  {
   "cell_type": "markdown",
   "metadata": {},
   "source": [
    "Согласно предварительным подсчетам, файл содержит около 11,04 млн. строк.\n",
    "\n",
    "Исследуем столбцы id, vas_id, buy_time, target на наличие пропусков ВО ВСЕХ таблицах:"
   ]
  },
  {
   "cell_type": "code",
   "execution_count": 35,
   "metadata": {},
   "outputs": [
    {
     "name": "stdout",
     "output_type": "stream",
     "text": [
      "Датафрейм data_train:\n",
      "Столбец id - кол-во nan-значений: 0\n",
      "Столбец vas_id - кол-во nan-значений: 0\n",
      "Столбец buy_time - кол-во nan-значений: 0\n",
      "Столбец target - кол-во nan-значений: 0\n",
      "Датафрейм data_test:\n",
      "Столбец id - кол-во nan-значений: 0\n",
      "Столбец vas_id - кол-во nan-значений: 0\n",
      "Столбец buy_time - кол-во nan-значений: 0\n",
      "Датафрейм features:\n",
      "Столбец id - кол-во nan-значений: 0\n",
      "Столбец buy_time - кол-во nan-значений: 0\n"
     ]
    }
   ],
   "source": [
    "print('Датафрейм data_train:')\n",
    "for c in list(data_train.columns):\n",
    "    print('Столбец {} - кол-во nan-значений: {}'.format(c,data_train[c].isna().astype(uint8).sum()))\n",
    "\n",
    "print('Датафрейм data_test:')\n",
    "for c in list(data_test.columns):\n",
    "    print('Столбец {} - кол-во nan-значений: {}'.format(c,data_test[c].isna().astype(uint8).sum()))\n",
    "\n",
    "print('Датафрейм features:')\n",
    "for c in ['id','buy_time']:\n",
    "    print('Столбец {} - кол-во nan-значений: {}'.format(c,features[c].isna().astype(uint8).sum()))"
   ]
  },
  {
   "cell_type": "markdown",
   "metadata": {},
   "source": [
    "В таких столбцах пропуска нет, все в порядке.\n",
    "\n",
    "На следующем шаге создадим пайплайн для преобразования значений признаков, а также с его помощью объединим обучающие и тестовые данные с признаками пользователей в конкретные моменты времени"
   ]
  }
 ],
 "metadata": {
  "kernelspec": {
   "display_name": "Python 3",
   "language": "python",
   "name": "python3"
  },
  "language_info": {
   "codemirror_mode": {
    "name": "ipython",
    "version": 3
   },
   "file_extension": ".py",
   "mimetype": "text/x-python",
   "name": "python",
   "nbconvert_exporter": "python",
   "pygments_lexer": "ipython3",
   "version": "3.8.5"
  }
 },
 "nbformat": 4,
 "nbformat_minor": 4
}
