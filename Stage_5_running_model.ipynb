{
 "cells": [
  {
   "cell_type": "markdown",
   "metadata": {},
   "source": [
    "# ЭТАП 5. Сборка и запуск ранее обученной модели"
   ]
  },
  {
   "cell_type": "markdown",
   "metadata": {},
   "source": [
    "Заключительный этап данного курсового проекта: тестирование полученной модели на тестовых данных"
   ]
  },
  {
   "cell_type": "code",
   "execution_count": 2,
   "metadata": {},
   "outputs": [],
   "source": [
    "import pandas as pd, dill\n",
    "import numpy as np"
   ]
  },
  {
   "cell_type": "code",
   "execution_count": 3,
   "metadata": {},
   "outputs": [],
   "source": [
    "with open('model_parts.dat','rb') as f:\n",
    "    model_parts = dill.load(f)\n",
    "\n",
    "pipeline = model_parts[0]\n",
    "top_10 = model_parts[1]\n",
    "model = model_parts[2]\n",
    "del model_parts"
   ]
  },
  {
   "cell_type": "code",
   "execution_count": 4,
   "metadata": {},
   "outputs": [],
   "source": [
    "#загружаем файл data_test.csv:\n",
    "data_test = pd.read_csv('data_test.csv')\n",
    "data_test = data_test[data_test.columns[1:]] #убираем столбец с номером строки"
   ]
  },
  {
   "cell_type": "markdown",
   "metadata": {},
   "source": [
    "Готовим итоговый фрейм данных для модели. Очень долгий шаг из-за большого размера файла features.csv: время обработки даже для 10 признаков составляет ок. 2.5 часов"
   ]
  },
  {
   "cell_type": "code",
   "execution_count": 5,
   "metadata": {},
   "outputs": [
    {
     "name": "stdout",
     "output_type": "stream",
     "text": [
      "Portion 1... ended\n",
      "Portion 2... ended\n",
      "Portion 3... ended\n",
      "Portion 4... ended\n",
      "Portion 5... ended\n",
      "Portion 6... ended\n",
      "Portion 7... ended\n",
      "Portion 8... ended\n",
      "Portion 9... ended\n",
      "Portion 10... ended\n",
      "Portion 11... ended\n",
      "Portion 12... ended\n",
      "Portion 13... ended\n",
      "Portion 14... ended\n",
      "Portion 15... ended\n",
      "Portion 16... ended\n",
      "Portion 17... ended\n",
      "Portion 18... ended\n",
      "Portion 19... ended\n",
      "Portion 20... ended\n",
      "Portion 21... ended\n",
      "Portion 22... ended\n",
      "Portion 23... ended\n",
      "Portion 24... ended\n",
      "Portion 25... ended\n",
      "Portion 26... ended\n",
      "Portion 27... ended\n",
      "Portion 28... ended\n",
      "Portion 29... ended\n",
      "Portion 30... ended\n",
      "Portion 31... ended\n",
      "Portion 32... ended\n",
      "Portion 33... ended\n",
      "Portion 34... ended\n",
      "Portion 35... ended\n",
      "Portion 36... ended\n",
      "Portion 37... ended\n",
      "Portion 38... ended\n",
      "Portion 39... ended\n",
      "Portion 40... ended\n",
      "Portion 41... ended\n",
      "Portion 42... ended\n",
      "Portion 43... ended\n",
      "Portion 44... ended\n",
      "Portion 45... ended\n",
      "Portion 46... ended\n",
      "Portion 47... Данные закончились\n"
     ]
    }
   ],
   "source": [
    "portion_n = 1           #начальная порция\n",
    "portion_end = 100       #конечная порция\n",
    "portion_strs = 100000   #число строк в порции\n",
    "\n",
    "for i in range(portion_n,portion_end):\n",
    "\n",
    "    print('Portion {}... '.format(i),end='')\n",
    "    \n",
    "    #Теперь извлечем признаки пользователей (первые 100000 строк):\n",
    "    if i==1:    \n",
    "        features = pd.read_csv('features.csv',nrows=portion_strs,delimiter='\\t')\n",
    "        features_columns = list(features.columns) #названия столбцов таблицы из исходного файла\n",
    "    else:\n",
    "        features = pd.read_csv('features.csv', nrows=portion_strs, skiprows=(i-1)*portion_strs+1, delimiter='\\t', header=0, names=features_columns)\n",
    "    \n",
    "    features = features[features.columns[1:]]\n",
    "    \n",
    "    '''\n",
    "    #отдельно обработаем признак с номером 252: он бинарный, но иногда попадаются\n",
    "    #выбросы. Из-за этого кол-во столбцов после pipeline получается не всегда одним и тем же. Удалим соответствующие строки\n",
    "    ind_incor = features.loc[((features['252']!=0) & (features['252']!=1))].index\n",
    "    features.drop(ind_incor,inplace=True)\n",
    "    '''\n",
    "    \n",
    "    features_left = features[['id','buy_time']] #левая часть features\n",
    "    try:\n",
    "        features = pipeline.fit_transform(features)\n",
    "    except:\n",
    "        print('Данные закончились')\n",
    "        break\n",
    "    \n",
    "    \n",
    "    #преобразование sparse-матрицы в DataFrame:\n",
    "    #features = features.todense()\n",
    "    features = pd.DataFrame(features)\n",
    "    features = pd.concat((features_left,features),axis=1,ignore_index=True)\n",
    "    \n",
    "    #делаем left join таблиц data_train и features2\n",
    "    features.columns = ['id','buy_time'] + top_10[3:]\n",
    "    data_test2 = data_test.merge(features, how='left', on=['id','buy_time'])\n",
    "    \n",
    "    #Ранее мы определили, что в data_train пропусков нет. Поэтому сейчас для большинства\n",
    "    #строк нет признаков. Поэтому удалим все строки, которые содержат nan-значения:\n",
    "    data_test2.dropna(inplace=True)\n",
    "        \n",
    "    if i==1:\n",
    "        data_test2.to_csv('prom_data.csv',mode='w',header=True,index=False)\n",
    "    else:\n",
    "        data_test2.to_csv('prom_data.csv',mode='a',header=False,index=False)\n",
    "    \n",
    "    print('ended')"
   ]
  },
  {
   "cell_type": "code",
   "execution_count": 7,
   "metadata": {},
   "outputs": [
    {
     "ename": "NameError",
     "evalue": "name 'data_test' is not defined",
     "output_type": "error",
     "traceback": [
      "\u001b[1;31m---------------------------------------------------------------------------\u001b[0m",
      "\u001b[1;31mNameError\u001b[0m                                 Traceback (most recent call last)",
      "\u001b[1;32m<ipython-input-7-2eab13dbb751>\u001b[0m in \u001b[0;36m<module>\u001b[1;34m\u001b[0m\n\u001b[0;32m      1\u001b[0m \u001b[1;31m#убираем лишние переменные:\u001b[0m\u001b[1;33m\u001b[0m\u001b[1;33m\u001b[0m\u001b[1;33m\u001b[0m\u001b[0m\n\u001b[1;32m----> 2\u001b[1;33m \u001b[1;32mdel\u001b[0m \u001b[0mdata_test\u001b[0m\u001b[1;33m,\u001b[0m \u001b[0mdata_test2\u001b[0m\u001b[1;33m,\u001b[0m \u001b[0mfeatures\u001b[0m\u001b[1;33m,\u001b[0m \u001b[0mfeatures_columns\u001b[0m\u001b[1;33m,\u001b[0m \u001b[0mfeatures_left\u001b[0m\u001b[1;33m\u001b[0m\u001b[1;33m\u001b[0m\u001b[0m\n\u001b[0m\u001b[0;32m      3\u001b[0m \u001b[1;32mdel\u001b[0m \u001b[0mportion_end\u001b[0m\u001b[1;33m,\u001b[0m \u001b[0mportion_n\u001b[0m\u001b[1;33m,\u001b[0m \u001b[0mportion_strs\u001b[0m\u001b[1;33m\u001b[0m\u001b[1;33m\u001b[0m\u001b[0m\n",
      "\u001b[1;31mNameError\u001b[0m: name 'data_test' is not defined"
     ]
    }
   ],
   "source": [
    "#убираем лишние переменные:\n",
    "del data_test, data_test2, features, features_columns, features_left\n",
    "del portion_end, portion_n, portion_strs"
   ]
  },
  {
   "cell_type": "code",
   "execution_count": 13,
   "metadata": {},
   "outputs": [
    {
     "data": {
      "text/html": [
       "<div>\n",
       "<style scoped>\n",
       "    .dataframe tbody tr th:only-of-type {\n",
       "        vertical-align: middle;\n",
       "    }\n",
       "\n",
       "    .dataframe tbody tr th {\n",
       "        vertical-align: top;\n",
       "    }\n",
       "\n",
       "    .dataframe thead th {\n",
       "        text-align: right;\n",
       "    }\n",
       "</style>\n",
       "<table border=\"1\" class=\"dataframe\">\n",
       "  <thead>\n",
       "    <tr style=\"text-align: right;\">\n",
       "      <th></th>\n",
       "      <th>id</th>\n",
       "      <th>vas_id</th>\n",
       "      <th>buy_time</th>\n",
       "      <th>59</th>\n",
       "      <th>221</th>\n",
       "      <th>123</th>\n",
       "      <th>37</th>\n",
       "      <th>26</th>\n",
       "      <th>194</th>\n",
       "      <th>80</th>\n",
       "    </tr>\n",
       "  </thead>\n",
       "  <tbody>\n",
       "    <tr>\n",
       "      <th>0</th>\n",
       "      <td>2766218</td>\n",
       "      <td>2.0</td>\n",
       "      <td>1547413200</td>\n",
       "      <td>0.197067</td>\n",
       "      <td>-0.006631</td>\n",
       "      <td>-0.096139</td>\n",
       "      <td>-0.143489</td>\n",
       "      <td>0.503700</td>\n",
       "      <td>0.774382</td>\n",
       "      <td>-0.020189</td>\n",
       "    </tr>\n",
       "    <tr>\n",
       "      <th>1</th>\n",
       "      <td>3456548</td>\n",
       "      <td>5.0</td>\n",
       "      <td>1546808400</td>\n",
       "      <td>0.706854</td>\n",
       "      <td>-0.006631</td>\n",
       "      <td>-0.096139</td>\n",
       "      <td>0.095130</td>\n",
       "      <td>0.503700</td>\n",
       "      <td>0.774382</td>\n",
       "      <td>-0.020189</td>\n",
       "    </tr>\n",
       "    <tr>\n",
       "      <th>2</th>\n",
       "      <td>3456715</td>\n",
       "      <td>2.0</td>\n",
       "      <td>1547413200</td>\n",
       "      <td>0.536925</td>\n",
       "      <td>-0.006631</td>\n",
       "      <td>-0.096139</td>\n",
       "      <td>-0.130066</td>\n",
       "      <td>0.503700</td>\n",
       "      <td>-1.291353</td>\n",
       "      <td>-0.020189</td>\n",
       "    </tr>\n",
       "    <tr>\n",
       "      <th>3</th>\n",
       "      <td>1786063</td>\n",
       "      <td>6.0</td>\n",
       "      <td>1548018000</td>\n",
       "      <td>-0.652578</td>\n",
       "      <td>-0.006631</td>\n",
       "      <td>-0.096139</td>\n",
       "      <td>-0.143489</td>\n",
       "      <td>-1.985307</td>\n",
       "      <td>0.774382</td>\n",
       "      <td>-0.020189</td>\n",
       "    </tr>\n",
       "    <tr>\n",
       "      <th>4</th>\n",
       "      <td>3987315</td>\n",
       "      <td>5.0</td>\n",
       "      <td>1547413200</td>\n",
       "      <td>-0.482649</td>\n",
       "      <td>-0.006631</td>\n",
       "      <td>-0.096139</td>\n",
       "      <td>0.080216</td>\n",
       "      <td>0.503700</td>\n",
       "      <td>0.774382</td>\n",
       "      <td>-0.020189</td>\n",
       "    </tr>\n",
       "  </tbody>\n",
       "</table>\n",
       "</div>"
      ],
      "text/plain": [
       "        id  vas_id    buy_time        59       221       123        37  \\\n",
       "0  2766218     2.0  1547413200  0.197067 -0.006631 -0.096139 -0.143489   \n",
       "1  3456548     5.0  1546808400  0.706854 -0.006631 -0.096139  0.095130   \n",
       "2  3456715     2.0  1547413200  0.536925 -0.006631 -0.096139 -0.130066   \n",
       "3  1786063     6.0  1548018000 -0.652578 -0.006631 -0.096139 -0.143489   \n",
       "4  3987315     5.0  1547413200 -0.482649 -0.006631 -0.096139  0.080216   \n",
       "\n",
       "         26       194        80  \n",
       "0  0.503700  0.774382 -0.020189  \n",
       "1  0.503700  0.774382 -0.020189  \n",
       "2  0.503700 -1.291353 -0.020189  \n",
       "3 -1.985307  0.774382 -0.020189  \n",
       "4  0.503700  0.774382 -0.020189  "
      ]
     },
     "execution_count": 13,
     "metadata": {},
     "output_type": "execute_result"
    }
   ],
   "source": [
    "#загрузим и обработаем полученные данные:\n",
    "data_test = pd.read_csv('prom_data.csv')\n",
    "data_test_left = data_test[list(data_test.columns)[:3]] #информация о времени и услугах\n",
    "\n",
    "data_test.head()"
   ]
  },
  {
   "cell_type": "code",
   "execution_count": 14,
   "metadata": {},
   "outputs": [
    {
     "data": {
      "text/plain": [
       "(2048, 10)"
      ]
     },
     "execution_count": 14,
     "metadata": {},
     "output_type": "execute_result"
    }
   ],
   "source": [
    "#приведем тип услуги к dummy-виду и сконкатенируем датафреймы:\n",
    "vas_id_test = pd.get_dummies(data_test.vas_id)\n",
    "data_test = data_test[list(data_test.columns)[3:]]\n",
    "data_test = pd.concat((vas_id_test[[6.0,4.0,9.0]],data_test),axis=1)\n",
    "\n",
    "data_test.shape"
   ]
  },
  {
   "cell_type": "code",
   "execution_count": 17,
   "metadata": {},
   "outputs": [
    {
     "name": "stdout",
     "output_type": "stream",
     "text": [
      "Положительных ответов: 195\n"
     ]
    }
   ],
   "source": [
    "#данные готовы, пропускаем через модель:\n",
    "test_pred = model.predict_proba(data_test)\n",
    "test_pred = np.array(test_pred[:,1] >= 0.5, dtype = np.uint8) #условно считаем порог равным 0.5\n",
    "test_pred = pd.Series(test_pred, name = 'target')\n",
    "print('Положительных ответов: {}'.format(test_pred.sum()))\n",
    "\n",
    "#готовим итоговый датафрейм и сохраняем его в answers_test.csv\n",
    "data_test_left = pd.concat((data_test_left,test_pred),axis=1)\n",
    "data_test_left.to_csv('answers_test.csv')"
   ]
  },
  {
   "cell_type": "markdown",
   "metadata": {},
   "source": [
    "Из 2048 пользователей модель предсказала подключение услуг только для 195 из них (9,52%)"
   ]
  }
 ],
 "metadata": {
  "kernelspec": {
   "display_name": "Python 3",
   "language": "python",
   "name": "python3"
  },
  "language_info": {
   "codemirror_mode": {
    "name": "ipython",
    "version": 3
   },
   "file_extension": ".py",
   "mimetype": "text/x-python",
   "name": "python",
   "nbconvert_exporter": "python",
   "pygments_lexer": "ipython3",
   "version": "3.8.5"
  }
 },
 "nbformat": 4,
 "nbformat_minor": 4
}
